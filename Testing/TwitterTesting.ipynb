{
 "cells": [
  {
   "cell_type": "code",
   "execution_count": 1,
   "metadata": {},
   "outputs": [
    {
     "name": "stderr",
     "output_type": "stream",
     "text": [
      "WARNING: Logging before flag parsing goes to stderr.\n",
      "W0503 23:07:24.268933  3688 __init__.py:56] Some hub symbols are not available because TensorFlow version is less than 1.14\n",
      "Using TensorFlow backend.\n"
     ]
    }
   ],
   "source": [
    "import tensorflow as tf\n",
    "import tensorflow_hub as hub\n",
    "from keras.models import *\n",
    "import keras.backend as K\n",
    "from keras.layers import *\n",
    "from keras.utils import *\n",
    "from keras.regularizers import *\n",
    "import numpy as np\n",
    "import _pickle as pickle"
   ]
  },
  {
   "cell_type": "code",
   "execution_count": 2,
   "metadata": {},
   "outputs": [],
   "source": [
    "embed = hub.Module('./embeddings/GUSE')"
   ]
  },
  {
   "cell_type": "code",
   "execution_count": 3,
   "metadata": {},
   "outputs": [],
   "source": [
    "def GUSE(param):\n",
    "    return embed(tf.squeeze(tf.cast(param, tf.string)), signature=\"default\", as_dict=True)[\"default\"]"
   ]
  },
  {
   "cell_type": "code",
   "execution_count": 4,
   "metadata": {},
   "outputs": [
    {
     "name": "stdout",
     "output_type": "stream",
     "text": [
      "INFO:tensorflow:Saver not created because there are no variables in the graph to restore\n"
     ]
    },
    {
     "name": "stderr",
     "output_type": "stream",
     "text": [
      "I0503 23:07:26.009303  3688 tf_logging.py:115] Saver not created because there are no variables in the graph to restore\n"
     ]
    },
    {
     "name": "stdout",
     "output_type": "stream",
     "text": [
      "_________________________________________________________________\n",
      "Layer (type)                 Output Shape              Param #   \n",
      "=================================================================\n",
      "input_1 (InputLayer)         (None, 1)                 0         \n",
      "_________________________________________________________________\n",
      "lambda_1 (Lambda)            (None, 512)               0         \n",
      "_________________________________________________________________\n",
      "dense_1 (Dense)              (None, 256)               131328    \n",
      "_________________________________________________________________\n",
      "dropout_1 (Dropout)          (None, 256)               0         \n",
      "_________________________________________________________________\n",
      "dense_2 (Dense)              (None, 128)               32896     \n",
      "_________________________________________________________________\n",
      "dropout_2 (Dropout)          (None, 128)               0         \n",
      "_________________________________________________________________\n",
      "dense_3 (Dense)              (None, 128)               16512     \n",
      "_________________________________________________________________\n",
      "dropout_3 (Dropout)          (None, 128)               0         \n",
      "_________________________________________________________________\n",
      "dense_4 (Dense)              (None, 64)                8256      \n",
      "_________________________________________________________________\n",
      "dropout_4 (Dropout)          (None, 64)                0         \n",
      "_________________________________________________________________\n",
      "dense_5 (Dense)              (None, 2)                 130       \n",
      "=================================================================\n",
      "Total params: 189,122\n",
      "Trainable params: 189,122\n",
      "Non-trainable params: 0\n",
      "_________________________________________________________________\n"
     ]
    }
   ],
   "source": [
    "input_layer = Input(shape=(1,), dtype=\"string\")\n",
    "guse = Lambda(GUSE, output_shape=(512,))(input_layer)\n",
    "dense1 = Dense(256, activation=\"relu\", kernel_regularizer=l2(0.005))(guse)\n",
    "dropout1 = Dropout(0.6)(dense1)\n",
    "dense2 = Dense(128, activation=\"relu\", kernel_regularizer=l2(0.005))(dropout1)\n",
    "dropout2 = Dropout(0.6)(dense2)\n",
    "dense3 = Dense(128, activation=\"relu\", kernel_regularizer=l2(0.005))(dropout2)\n",
    "dropout3 = Dropout(0.6)(dense3)\n",
    "dense4 = Dense(64, activation=\"relu\", kernel_regularizer=l2(0.005))(dropout3)\n",
    "dropout4 = Dropout(0.6)(dense4)\n",
    "output = Dense(2, activation=\"softmax\")(dropout4)\n",
    "model = Model(inputs=[input_layer], outputs=output)\n",
    "model.compile(loss='categorical_crossentropy', optimizer='adam', metrics=['accuracy'])\n",
    "model.summary()"
   ]
  },
  {
   "cell_type": "code",
   "execution_count": 5,
   "metadata": {},
   "outputs": [],
   "source": [
    "twitter_f = open(\"twitter_irony_all.pickle\", mode=\"rb\")\n",
    "twitter_data = pickle.load(twitter_f)\n",
    "a = np.zeros((156,1))\n",
    "b = np.ones((156,1))\n",
    "twitter_y = np.concatenate((a,b), axis=1)\n",
    "twitter_x = np.asarray(twitter_data)\n",
    "twitter_x = np.reshape(twitter_x, (twitter_x.shape[0],1))"
   ]
  },
  {
   "cell_type": "code",
   "execution_count": 6,
   "metadata": {},
   "outputs": [
    {
     "name": "stdout",
     "output_type": "stream",
     "text": [
      "156/156 [==============================] - 1s 8ms/step\n"
     ]
    },
    {
     "data": {
      "text/plain": [
       "0.8333333333333334"
      ]
     },
     "execution_count": 6,
     "metadata": {},
     "output_type": "execute_result"
    }
   ],
   "source": [
    "session = tf.Session()\n",
    "K.set_session(session)\n",
    "session.run(tf.global_variables_initializer())\n",
    "session.run(tf.tables_initializer())\n",
    "model.load_weights(\"guse_model.h5\")\n",
    "scores = model.evaluate(twitter_x, twitter_y)\n",
    "scores[1]"
   ]
  },
  {
   "cell_type": "code",
   "execution_count": 37,
   "metadata": {},
   "outputs": [
    {
     "data": {
      "text/plain": [
       "array([[5.88786483e-01, 4.11213577e-01],\n",
       "       [3.12904477e-01, 6.87095523e-01],\n",
       "       [9.33587253e-01, 6.64127171e-02],\n",
       "       [5.67554355e-01, 4.32445675e-01],\n",
       "       [3.13545376e-01, 6.86454654e-01],\n",
       "       [3.13274026e-01, 6.86725974e-01],\n",
       "       [3.13368678e-01, 6.86631322e-01],\n",
       "       [3.13066751e-01, 6.86933279e-01],\n",
       "       [5.07478714e-01, 4.92521256e-01],\n",
       "       [7.70803690e-01, 2.29196280e-01],\n",
       "       [3.13160241e-01, 6.86839819e-01],\n",
       "       [3.13133627e-01, 6.86866343e-01],\n",
       "       [3.13194245e-01, 6.86805725e-01],\n",
       "       [3.13009471e-01, 6.86990559e-01],\n",
       "       [3.12792003e-01, 6.87207997e-01],\n",
       "       [3.26016217e-01, 6.73983812e-01],\n",
       "       [3.13003510e-01, 6.86996460e-01],\n",
       "       [3.95813435e-01, 6.04186535e-01],\n",
       "       [3.13000858e-01, 6.86999083e-01],\n",
       "       [3.13040197e-01, 6.86959803e-01],\n",
       "       [3.12775820e-01, 6.87224209e-01],\n",
       "       [3.13674897e-01, 6.86325133e-01],\n",
       "       [3.13266307e-01, 6.86733663e-01],\n",
       "       [3.14398497e-01, 6.85601532e-01],\n",
       "       [3.13343674e-01, 6.86656356e-01],\n",
       "       [5.45673251e-01, 4.54326689e-01],\n",
       "       [3.12932521e-01, 6.87067509e-01],\n",
       "       [3.13256532e-01, 6.86743498e-01],\n",
       "       [3.13125044e-01, 6.86874986e-01],\n",
       "       [3.23201597e-01, 6.76798463e-01],\n",
       "       [6.19412839e-01, 3.80587190e-01],\n",
       "       [3.13101292e-01, 6.86898708e-01],\n",
       "       [3.13119203e-01, 6.86880827e-01],\n",
       "       [3.13282996e-01, 6.86716974e-01],\n",
       "       [3.12964976e-01, 6.87035024e-01],\n",
       "       [3.15209836e-01, 6.84790134e-01],\n",
       "       [3.13257128e-01, 6.86742842e-01],\n",
       "       [3.13188702e-01, 6.86811328e-01],\n",
       "       [3.13153058e-01, 6.86846972e-01],\n",
       "       [4.61699456e-01, 5.38300514e-01],\n",
       "       [3.13090384e-01, 6.86909616e-01],\n",
       "       [3.12876791e-01, 6.87123239e-01],\n",
       "       [3.12840462e-01, 6.87159479e-01],\n",
       "       [7.77633667e-01, 2.22366318e-01],\n",
       "       [3.13297570e-01, 6.86702430e-01],\n",
       "       [9.51259196e-01, 4.87407744e-02],\n",
       "       [3.13301414e-01, 6.86698616e-01],\n",
       "       [3.14981997e-01, 6.85018003e-01],\n",
       "       [3.13036382e-01, 6.86963677e-01],\n",
       "       [3.83555561e-01, 6.16444468e-01],\n",
       "       [3.85483772e-01, 6.14516199e-01],\n",
       "       [3.12902778e-01, 6.87097251e-01],\n",
       "       [3.13912123e-01, 6.86087906e-01],\n",
       "       [3.91526818e-01, 6.08473122e-01],\n",
       "       [3.12831700e-01, 6.87168241e-01],\n",
       "       [3.12780946e-01, 6.87219024e-01],\n",
       "       [3.14394206e-01, 6.85605824e-01],\n",
       "       [3.13464761e-01, 6.86535239e-01],\n",
       "       [3.12918365e-01, 6.87081635e-01],\n",
       "       [3.13001752e-01, 6.86998248e-01],\n",
       "       [3.13118309e-01, 6.86881721e-01],\n",
       "       [7.13356674e-01, 2.86643356e-01],\n",
       "       [9.96031821e-01, 3.96821043e-03],\n",
       "       [3.13406587e-01, 6.86593413e-01],\n",
       "       [3.13557059e-01, 6.86442912e-01],\n",
       "       [3.13376218e-01, 6.86623752e-01],\n",
       "       [3.13309491e-01, 6.86690450e-01],\n",
       "       [3.13253105e-01, 6.86746895e-01],\n",
       "       [3.12842965e-01, 6.87157094e-01],\n",
       "       [3.13605100e-01, 6.86394930e-01],\n",
       "       [9.94450212e-01, 5.54984342e-03],\n",
       "       [3.13096553e-01, 6.86903477e-01],\n",
       "       [3.24281543e-01, 6.75718427e-01],\n",
       "       [5.34415483e-01, 4.65584487e-01],\n",
       "       [3.12947452e-01, 6.87052548e-01],\n",
       "       [8.90687406e-01, 1.09312564e-01],\n",
       "       [3.13277572e-01, 6.86722457e-01],\n",
       "       [5.58134854e-01, 4.41865146e-01],\n",
       "       [3.13011527e-01, 6.86988473e-01],\n",
       "       [3.13564390e-01, 6.86435580e-01],\n",
       "       [3.13150376e-01, 6.86849594e-01],\n",
       "       [3.14299107e-01, 6.85700893e-01],\n",
       "       [3.13182652e-01, 6.86817288e-01],\n",
       "       [3.13216478e-01, 6.86783493e-01],\n",
       "       [3.13080162e-01, 6.86919868e-01],\n",
       "       [3.13706100e-01, 6.86293960e-01],\n",
       "       [3.13141227e-01, 6.86858833e-01],\n",
       "       [3.13239098e-01, 6.86760902e-01],\n",
       "       [3.13374341e-01, 6.86625659e-01],\n",
       "       [3.13134402e-01, 6.86865568e-01],\n",
       "       [3.20485473e-01, 6.79514527e-01],\n",
       "       [3.42783928e-01, 6.57216072e-01],\n",
       "       [3.13333780e-01, 6.86666191e-01],\n",
       "       [3.13061237e-01, 6.86938763e-01],\n",
       "       [3.20871830e-01, 6.79128230e-01],\n",
       "       [3.12882096e-01, 6.87117934e-01],\n",
       "       [3.14284563e-01, 6.85715437e-01],\n",
       "       [4.21848804e-01, 5.78151226e-01],\n",
       "       [3.13161731e-01, 6.86838210e-01],\n",
       "       [3.12998354e-01, 6.87001705e-01],\n",
       "       [3.12948525e-01, 6.87051415e-01],\n",
       "       [4.74540144e-01, 5.25459826e-01],\n",
       "       [3.12872797e-01, 6.87127173e-01],\n",
       "       [9.80627000e-01, 1.93730406e-02],\n",
       "       [9.94362235e-01, 5.63777471e-03],\n",
       "       [3.14741462e-01, 6.85258508e-01],\n",
       "       [3.13253403e-01, 6.86746657e-01],\n",
       "       [3.12782496e-01, 6.87217474e-01],\n",
       "       [3.12934220e-01, 6.87065840e-01],\n",
       "       [9.13923323e-01, 8.60767066e-02],\n",
       "       [3.12913209e-01, 6.87086821e-01],\n",
       "       [3.28485966e-01, 6.71514034e-01],\n",
       "       [3.19028199e-01, 6.80971801e-01],\n",
       "       [3.13450456e-01, 6.86549544e-01],\n",
       "       [3.13661158e-01, 6.86338842e-01],\n",
       "       [3.12998980e-01, 6.87000990e-01],\n",
       "       [3.13306689e-01, 6.86693311e-01],\n",
       "       [3.12867969e-01, 6.87132001e-01],\n",
       "       [3.12890083e-01, 6.87109947e-01],\n",
       "       [3.13056409e-01, 6.86943650e-01],\n",
       "       [3.13115537e-01, 6.86884463e-01],\n",
       "       [3.13300699e-01, 6.86699271e-01],\n",
       "       [3.13572943e-01, 6.86427057e-01],\n",
       "       [3.13393682e-01, 6.86606348e-01],\n",
       "       [3.13246459e-01, 6.86753571e-01],\n",
       "       [3.12911153e-01, 6.87088847e-01],\n",
       "       [9.99674439e-01, 3.25567089e-04],\n",
       "       [3.46753061e-01, 6.53246939e-01],\n",
       "       [3.14086080e-01, 6.85913920e-01],\n",
       "       [3.14283013e-01, 6.85716987e-01],\n",
       "       [3.13384444e-01, 6.86615586e-01],\n",
       "       [9.07642186e-01, 9.23578441e-02],\n",
       "       [3.12915742e-01, 6.87084258e-01],\n",
       "       [3.13106596e-01, 6.86893463e-01],\n",
       "       [7.10830808e-01, 2.89169222e-01],\n",
       "       [9.35649037e-01, 6.43509403e-02],\n",
       "       [3.13396096e-01, 6.86603904e-01],\n",
       "       [3.13468158e-01, 6.86531901e-01],\n",
       "       [3.12936246e-01, 6.87063754e-01],\n",
       "       [3.14211607e-01, 6.85788453e-01],\n",
       "       [3.13710183e-01, 6.86289787e-01],\n",
       "       [4.53886986e-01, 5.46113014e-01],\n",
       "       [3.13143194e-01, 6.86856806e-01],\n",
       "       [3.12893242e-01, 6.87106729e-01],\n",
       "       [3.13020736e-01, 6.86979234e-01],\n",
       "       [9.97518182e-01, 2.48187641e-03],\n",
       "       [3.13155442e-01, 6.86844528e-01],\n",
       "       [3.12948525e-01, 6.87051415e-01],\n",
       "       [9.95562792e-01, 4.43717372e-03],\n",
       "       [3.13193440e-01, 6.86806560e-01],\n",
       "       [3.13005328e-01, 6.86994672e-01],\n",
       "       [7.86377549e-01, 2.13622451e-01],\n",
       "       [3.13023776e-01, 6.86976254e-01],\n",
       "       [3.13298374e-01, 6.86701655e-01],\n",
       "       [9.99823034e-01, 1.77024092e-04],\n",
       "       [3.12983543e-01, 6.87016428e-01]], dtype=float32)"
      ]
     },
     "execution_count": 37,
     "metadata": {},
     "output_type": "execute_result"
    }
   ],
   "source": [
    "preds = model.predict(twitter_x)\n",
    "preds"
   ]
  },
  {
   "cell_type": "code",
   "execution_count": 68,
   "metadata": {},
   "outputs": [
    {
     "data": {
      "text/plain": [
       "array(['My financial state of affairs is depressing and I cannot afford therapy...  or '],\n",
       "      dtype='<U137')"
      ]
     },
     "execution_count": 68,
     "metadata": {},
     "output_type": "execute_result"
    }
   ],
   "source": [
    "twitter_x[7]"
   ]
  },
  {
   "cell_type": "code",
   "execution_count": 42,
   "metadata": {},
   "outputs": [
    {
     "data": {
      "text/plain": [
       "array(['Love how my Nutrition teacher is fat as shit lmao. She should take some of her own advice '],\n",
       "      dtype='<U137')"
      ]
     },
     "execution_count": 42,
     "metadata": {},
     "output_type": "execute_result"
    }
   ],
   "source": [
    "twitter_x[2]"
   ]
  },
  {
   "cell_type": "code",
   "execution_count": 71,
   "metadata": {},
   "outputs": [
    {
     "data": {
      "text/plain": [
       "array([[0.31306905, 0.68693095],\n",
       "       [0.8369605 , 0.16303955]], dtype=float32)"
      ]
     },
     "execution_count": 71,
     "metadata": {},
     "output_type": "execute_result"
    }
   ],
   "source": [
    "something = [\"Nobody can tell what I suffer! But it is always so. Those who do not complain are never pitied.\", '']\n",
    "smt = np.asarray(something)\n",
    "smt = np.reshape(smt, (smt.shape[0],1))\n",
    "pred = model.predict(smt)\n",
    "pred"
   ]
  },
  {
   "cell_type": "code",
   "execution_count": null,
   "metadata": {},
   "outputs": [],
   "source": []
  }
 ],
 "metadata": {
  "kernelspec": {
   "display_name": "Python 3",
   "language": "python",
   "name": "python3"
  },
  "language_info": {
   "codemirror_mode": {
    "name": "ipython",
    "version": 3
   },
   "file_extension": ".py",
   "mimetype": "text/x-python",
   "name": "python",
   "nbconvert_exporter": "python",
   "pygments_lexer": "ipython3",
   "version": "3.6.5"
  }
 },
 "nbformat": 4,
 "nbformat_minor": 2
}
