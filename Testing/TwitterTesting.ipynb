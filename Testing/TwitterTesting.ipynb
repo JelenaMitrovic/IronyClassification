{
 "cells": [
  {
   "cell_type": "code",
   "execution_count": 1,
   "metadata": {},
   "outputs": [
    {
     "name": "stderr",
     "output_type": "stream",
     "text": [
      "WARNING: Logging before flag parsing goes to stderr.\n",
      "W0504 00:10:49.963731 10084 __init__.py:56] Some hub symbols are not available because TensorFlow version is less than 1.14\n",
      "Using TensorFlow backend.\n"
     ]
    }
   ],
   "source": [
    "import tensorflow as tf\n",
    "import tensorflow_hub as hub\n",
    "from keras.models import *\n",
    "import keras.backend as K\n",
    "from keras.layers import *\n",
    "from keras.utils import *\n",
    "from keras.regularizers import *\n",
    "import numpy as np\n",
    "import _pickle as pickle"
   ]
  },
  {
   "cell_type": "code",
   "execution_count": 2,
   "metadata": {},
   "outputs": [],
   "source": [
    "embed = hub.Module('./embeddings/GUSE')"
   ]
  },
  {
   "cell_type": "code",
   "execution_count": 3,
   "metadata": {},
   "outputs": [],
   "source": [
    "def GUSE(param):\n",
    "    return embed(tf.squeeze(tf.cast(param, tf.string)), signature=\"default\", as_dict=True)[\"default\"]"
   ]
  },
  {
   "cell_type": "code",
   "execution_count": 4,
   "metadata": {},
   "outputs": [
    {
     "name": "stdout",
     "output_type": "stream",
     "text": [
      "INFO:tensorflow:Saver not created because there are no variables in the graph to restore\n"
     ]
    },
    {
     "name": "stderr",
     "output_type": "stream",
     "text": [
      "I0504 00:10:51.703107 10084 tf_logging.py:115] Saver not created because there are no variables in the graph to restore\n"
     ]
    },
    {
     "name": "stdout",
     "output_type": "stream",
     "text": [
      "_________________________________________________________________\n",
      "Layer (type)                 Output Shape              Param #   \n",
      "=================================================================\n",
      "input_1 (InputLayer)         (None, 1)                 0         \n",
      "_________________________________________________________________\n",
      "lambda_1 (Lambda)            (None, 512)               0         \n",
      "_________________________________________________________________\n",
      "dense_1 (Dense)              (None, 256)               131328    \n",
      "_________________________________________________________________\n",
      "dropout_1 (Dropout)          (None, 256)               0         \n",
      "_________________________________________________________________\n",
      "dense_2 (Dense)              (None, 128)               32896     \n",
      "_________________________________________________________________\n",
      "dropout_2 (Dropout)          (None, 128)               0         \n",
      "_________________________________________________________________\n",
      "dense_3 (Dense)              (None, 128)               16512     \n",
      "_________________________________________________________________\n",
      "dropout_3 (Dropout)          (None, 128)               0         \n",
      "_________________________________________________________________\n",
      "dense_4 (Dense)              (None, 64)                8256      \n",
      "_________________________________________________________________\n",
      "dropout_4 (Dropout)          (None, 64)                0         \n",
      "_________________________________________________________________\n",
      "dense_5 (Dense)              (None, 1)                 65        \n",
      "=================================================================\n",
      "Total params: 189,057\n",
      "Trainable params: 189,057\n",
      "Non-trainable params: 0\n",
      "_________________________________________________________________\n"
     ]
    }
   ],
   "source": [
    "input_layer = Input(shape=(1,), dtype=\"string\")\n",
    "guse = Lambda(GUSE, output_shape=(512,))(input_layer)\n",
    "dense1 = Dense(256, activation=\"relu\", kernel_regularizer=l2(0.005))(guse)\n",
    "dropout1 = Dropout(0.5)(dense1)\n",
    "dense2 = Dense(128, activation=\"relu\", kernel_regularizer=l2(0.005))(dropout1)\n",
    "dropout2 = Dropout(0.5)(dense2)\n",
    "dense3 = Dense(128, activation=\"relu\", kernel_regularizer=l2(0.005))(dropout2)\n",
    "dropout3 = Dropout(0.5)(dense3)\n",
    "dense4 = Dense(64, activation=\"relu\", kernel_regularizer=l2(0.005))(dropout3)\n",
    "dropout4 = Dropout(0.5)(dense4)\n",
    "output = Dense(1, activation=\"sigmoid\")(dropout4)\n",
    "model = Model(inputs=[input_layer], outputs=output)\n",
    "model.compile(loss='binary_crossentropy', optimizer='adam', metrics=['accuracy'])\n",
    "model.summary()"
   ]
  },
  {
   "cell_type": "code",
   "execution_count": 5,
   "metadata": {},
   "outputs": [],
   "source": [
    "twitter_f = open(\"twitter_irony_all.pickle\", mode=\"rb\")\n",
    "twitter_data = pickle.load(twitter_f)\n",
    "a = np.zeros((156,1))\n",
    "b = np.ones((156,1))\n",
    "twitter_y = b\n",
    "twitter_x = np.asarray(twitter_data)\n",
    "twitter_x = np.reshape(twitter_x, (twitter_x.shape[0],1))"
   ]
  },
  {
   "cell_type": "code",
   "execution_count": 6,
   "metadata": {},
   "outputs": [
    {
     "name": "stdout",
     "output_type": "stream",
     "text": [
      "156/156 [==============================] - 1s 7ms/step\n"
     ]
    },
    {
     "data": {
      "text/plain": [
       "0.8717948717948718"
      ]
     },
     "execution_count": 6,
     "metadata": {},
     "output_type": "execute_result"
    }
   ],
   "source": [
    "session = tf.Session()\n",
    "K.set_session(session)\n",
    "session.run(tf.global_variables_initializer())\n",
    "session.run(tf.tables_initializer())\n",
    "model.load_weights(\"guse_model2.h5\")\n",
    "scores = model.evaluate(twitter_x, twitter_y)\n",
    "scores[1]"
   ]
  },
  {
   "cell_type": "code",
   "execution_count": 7,
   "metadata": {},
   "outputs": [
    {
     "data": {
      "text/plain": [
       "array([[0.68539107],\n",
       "       [0.83285445],\n",
       "       [0.06659451],\n",
       "       [0.5137295 ],\n",
       "       [0.8215864 ],\n",
       "       [0.81894183],\n",
       "       [0.8223159 ],\n",
       "       [0.82760954],\n",
       "       [0.6895938 ],\n",
       "       [0.14925408],\n",
       "       [0.8283279 ],\n",
       "       [0.8120966 ],\n",
       "       [0.82675904],\n",
       "       [0.8204971 ],\n",
       "       [0.84651464],\n",
       "       [0.7491567 ],\n",
       "       [0.83354354],\n",
       "       [0.72429264],\n",
       "       [0.8288956 ],\n",
       "       [0.8324604 ],\n",
       "       [0.8373509 ],\n",
       "       [0.8003315 ],\n",
       "       [0.81941676],\n",
       "       [0.8200142 ],\n",
       "       [0.81877184],\n",
       "       [0.55667233],\n",
       "       [0.83385515],\n",
       "       [0.8257985 ],\n",
       "       [0.82588464],\n",
       "       [0.7963106 ],\n",
       "       [0.55460984],\n",
       "       [0.82201535],\n",
       "       [0.8252736 ],\n",
       "       [0.79609656],\n",
       "       [0.8240837 ],\n",
       "       [0.76231396],\n",
       "       [0.81472355],\n",
       "       [0.83150834],\n",
       "       [0.824762  ],\n",
       "       [0.7002792 ],\n",
       "       [0.8246488 ],\n",
       "       [0.8341392 ],\n",
       "       [0.85033643],\n",
       "       [0.3040255 ],\n",
       "       [0.8134942 ],\n",
       "       [0.03060776],\n",
       "       [0.82122594],\n",
       "       [0.7241163 ],\n",
       "       [0.8298178 ],\n",
       "       [0.7967995 ],\n",
       "       [0.66943157],\n",
       "       [0.84107965],\n",
       "       [0.8168832 ],\n",
       "       [0.646498  ],\n",
       "       [0.8419849 ],\n",
       "       [0.85482603],\n",
       "       [0.80358577],\n",
       "       [0.80613387],\n",
       "       [0.8352555 ],\n",
       "       [0.83049506],\n",
       "       [0.8361401 ],\n",
       "       [0.42139655],\n",
       "       [0.00740174],\n",
       "       [0.8152703 ],\n",
       "       [0.8013602 ],\n",
       "       [0.8151432 ],\n",
       "       [0.81964755],\n",
       "       [0.8240779 ],\n",
       "       [0.8467312 ],\n",
       "       [0.81164324],\n",
       "       [0.00647571],\n",
       "       [0.8298387 ],\n",
       "       [0.8047276 ],\n",
       "       [0.43575624],\n",
       "       [0.8351317 ],\n",
       "       [0.10102063],\n",
       "       [0.82042265],\n",
       "       [0.78781945],\n",
       "       [0.82948685],\n",
       "       [0.8078092 ],\n",
       "       [0.82231677],\n",
       "       [0.76400447],\n",
       "       [0.8236555 ],\n",
       "       [0.8202818 ],\n",
       "       [0.82861656],\n",
       "       [0.81432813],\n",
       "       [0.82639384],\n",
       "       [0.8238908 ],\n",
       "       [0.8157226 ],\n",
       "       [0.82600325],\n",
       "       [0.80108196],\n",
       "       [0.79232645],\n",
       "       [0.8302036 ],\n",
       "       [0.82097334],\n",
       "       [0.80764616],\n",
       "       [0.8406112 ],\n",
       "       [0.74511087],\n",
       "       [0.59732026],\n",
       "       [0.8267305 ],\n",
       "       [0.83340514],\n",
       "       [0.836656  ],\n",
       "       [0.62426466],\n",
       "       [0.83707   ],\n",
       "       [0.0287896 ],\n",
       "       [0.01077205],\n",
       "       [0.8110376 ],\n",
       "       [0.82678187],\n",
       "       [0.8405722 ],\n",
       "       [0.8411646 ],\n",
       "       [0.14217389],\n",
       "       [0.8343238 ],\n",
       "       [0.80304974],\n",
       "       [0.810238  ],\n",
       "       [0.8196178 ],\n",
       "       [0.8088546 ],\n",
       "       [0.8237607 ],\n",
       "       [0.820292  ],\n",
       "       [0.8320721 ],\n",
       "       [0.8415379 ],\n",
       "       [0.8168256 ],\n",
       "       [0.8211528 ],\n",
       "       [0.8170951 ],\n",
       "       [0.8074938 ],\n",
       "       [0.82002187],\n",
       "       [0.8155702 ],\n",
       "       [0.8403479 ],\n",
       "       [0.00116342],\n",
       "       [0.799498  ],\n",
       "       [0.79335785],\n",
       "       [0.7976593 ],\n",
       "       [0.8135908 ],\n",
       "       [0.08991619],\n",
       "       [0.8304307 ],\n",
       "       [0.8222453 ],\n",
       "       [0.4481317 ],\n",
       "       [0.05907257],\n",
       "       [0.82711697],\n",
       "       [0.80185395],\n",
       "       [0.82784075],\n",
       "       [0.7909192 ],\n",
       "       [0.7995348 ],\n",
       "       [0.759929  ],\n",
       "       [0.818282  ],\n",
       "       [0.845788  ],\n",
       "       [0.8289548 ],\n",
       "       [0.00403334],\n",
       "       [0.8278215 ],\n",
       "       [0.83168685],\n",
       "       [0.00489097],\n",
       "       [0.82183725],\n",
       "       [0.8327787 ],\n",
       "       [0.20455317],\n",
       "       [0.8316167 ],\n",
       "       [0.818899  ],\n",
       "       [0.00091297],\n",
       "       [0.82782996]], dtype=float32)"
      ]
     },
     "execution_count": 7,
     "metadata": {},
     "output_type": "execute_result"
    }
   ],
   "source": [
    "preds = model.predict(twitter_x)\n",
    "preds"
   ]
  },
  {
   "cell_type": "code",
   "execution_count": 8,
   "metadata": {},
   "outputs": [
    {
     "data": {
      "text/plain": [
       "array(['My financial state of affairs is depressing and I cannot afford therapy...  or '],\n",
       "      dtype='<U137')"
      ]
     },
     "execution_count": 8,
     "metadata": {},
     "output_type": "execute_result"
    }
   ],
   "source": [
    "twitter_x[7]"
   ]
  },
  {
   "cell_type": "code",
   "execution_count": 16,
   "metadata": {},
   "outputs": [
    {
     "data": {
      "text/plain": [
       "array([\"See this be this bullshit, love will make you save a dead person for someone that don't even care. \"],\n",
       "      dtype='<U137')"
      ]
     },
     "execution_count": 16,
     "metadata": {},
     "output_type": "execute_result"
    }
   ],
   "source": [
    "twitter_x[155]"
   ]
  },
  {
   "cell_type": "code",
   "execution_count": 20,
   "metadata": {},
   "outputs": [
    {
     "data": {
      "text/plain": [
       "array([[0.29589927],\n",
       "       [0.13199294]], dtype=float32)"
      ]
     },
     "execution_count": 20,
     "metadata": {},
     "output_type": "execute_result"
    }
   ],
   "source": [
    "something = [\"I hope you all enjoyed my presentation today\", '']\n",
    "smt = np.asarray(something)\n",
    "smt = np.reshape(smt, (smt.shape[0],1))\n",
    "pred = model.predict(smt)\n",
    "pred"
   ]
  },
  {
   "cell_type": "code",
   "execution_count": null,
   "metadata": {},
   "outputs": [],
   "source": []
  }
 ],
 "metadata": {
  "kernelspec": {
   "display_name": "Python 3",
   "language": "python",
   "name": "python3"
  },
  "language_info": {
   "codemirror_mode": {
    "name": "ipython",
    "version": 3
   },
   "file_extension": ".py",
   "mimetype": "text/x-python",
   "name": "python",
   "nbconvert_exporter": "python",
   "pygments_lexer": "ipython3",
   "version": "3.6.5"
  }
 },
 "nbformat": 4,
 "nbformat_minor": 2
}
